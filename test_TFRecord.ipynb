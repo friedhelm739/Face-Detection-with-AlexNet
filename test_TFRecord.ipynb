{
 "cells": [
  {
   "cell_type": "markdown",
   "metadata": {},
   "source": [
    "# 测试TFRecord文件是否可用"
   ]
  },
  {
   "cell_type": "code",
   "execution_count": 1,
   "metadata": {},
   "outputs": [
    {
     "name": "stdout",
     "output_type": "stream",
     "text": [
      "[[[180 157 135]\n",
      "  [181 158 136]\n",
      "  [181 158 136]\n",
      "  ...\n",
      "  [ 55  23  10]\n",
      "  [ 69  36  21]\n",
      "  [ 77  45  26]]\n",
      "\n",
      " [[181 158 136]\n",
      "  [181 158 136]\n",
      "  [181 158 136]\n",
      "  ...\n",
      "  [ 57  25  12]\n",
      "  [ 75  45  28]\n",
      "  [ 87  55  36]]\n",
      "\n",
      " [[181 158 136]\n",
      "  [181 158 136]\n",
      "  [182 159 137]\n",
      "  ...\n",
      "  [ 64  35  21]\n",
      "  [ 94  64  47]\n",
      "  [110  78  59]]\n",
      "\n",
      " ...\n",
      "\n",
      " [[ 32  68  68]\n",
      "  [ 35  71  71]\n",
      "  [ 46  80  80]\n",
      "  ...\n",
      "  [ 51  28  20]\n",
      "  [ 50  27  19]\n",
      "  [ 51  28  20]]\n",
      "\n",
      " [[ 22  58  58]\n",
      "  [ 25  61  61]\n",
      "  [ 38  72  72]\n",
      "  ...\n",
      "  [ 52  29  21]\n",
      "  [ 51  28  20]\n",
      "  [ 52  30  19]]\n",
      "\n",
      " [[ 19  56  54]\n",
      "  [ 22  59  57]\n",
      "  [ 36  70  69]\n",
      "  ...\n",
      "  [ 53  30  22]\n",
      "  [ 52  30  19]\n",
      "  [ 52  30  19]]]\n",
      "INFO:tensorflow:Error reported to Coordinator: <class 'tensorflow.python.framework.errors_impl.CancelledError'>, Enqueue operation was cancelled\n",
      "\t [[Node: shuffle_batch/random_shuffle_queue_enqueue = QueueEnqueueV2[Tcomponents=[DT_UINT8, DT_INT32], timeout_ms=-1, _device=\"/job:localhost/replica:0/task:0/device:CPU:0\"](shuffle_batch/random_shuffle_queue, Reshape/_27, Cast/_29)]]\n"
     ]
    }
   ],
   "source": [
    "import tensorflow as tf\n",
    "import numpy as np\n",
    "import cv2\n",
    "\n",
    "\n",
    "filename_queue = tf.train.string_input_producer(['E:\\\\friedhelm\\\\face_detection_VGG\\\\face_test_224.tfrecords'],shuffle=True,num_epochs=1)\n",
    "\n",
    "reader = tf.TFRecordReader()\n",
    "_, serialized_example = reader.read(filename_queue) #返回文件名和文件\n",
    "\n",
    "features = tf.parse_single_example(serialized_example,\n",
    "                               features={\n",
    "                               'label':tf.FixedLenFeature([],tf.int64),\n",
    "                               'img':tf.FixedLenFeature([],tf.string),\n",
    "                               })\n",
    "img=tf.decode_raw(features['img'],tf.uint8)\n",
    "label=tf.cast(features['label'],tf.int32)\n",
    "img = tf.reshape(img, [224,224,3])   \n",
    "#     img=img_preprocess(img)\n",
    "min_after_dequeue = 10000\n",
    "batch_size = 64\n",
    "capacity = min_after_dequeue + 10 * batch_size\n",
    "image_batch, label_batch = tf.train.shuffle_batch([img, label], \n",
    "                                                    batch_size=batch_size, \n",
    "                                                    capacity=capacity, \n",
    "                                                    min_after_dequeue=min_after_dequeue,\n",
    "                                                    num_threads=7)  \n",
    "\n",
    "i=0\n",
    "with tf.Session() as sess:\n",
    "    sess.run((tf.global_variables_initializer(),\n",
    "              tf.local_variables_initializer()))\n",
    "    coord = tf.train.Coordinator()\n",
    "    threads = tf.train.start_queue_runners(sess=sess,coord=coord)    \n",
    "    while(1):\n",
    "        i=i+1\n",
    "        if(i%9==1):\n",
    "            print(sess.run(label_batch))"
   ]
  },
  {
   "cell_type": "code",
   "execution_count": null,
   "metadata": {},
   "outputs": [],
   "source": []
  }
 ],
 "metadata": {
  "kernelspec": {
   "display_name": "Python 3",
   "language": "python",
   "name": "python3"
  },
  "language_info": {
   "codemirror_mode": {
    "name": "ipython",
    "version": 3
   },
   "file_extension": ".py",
   "mimetype": "text/x-python",
   "name": "python",
   "nbconvert_exporter": "python",
   "pygments_lexer": "ipython3",
   "version": "3.6.5"
  }
 },
 "nbformat": 4,
 "nbformat_minor": 2
}
